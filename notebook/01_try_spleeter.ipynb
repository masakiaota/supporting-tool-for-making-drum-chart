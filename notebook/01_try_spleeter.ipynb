{
 "cells": [
  {
   "cell_type": "markdown",
   "id": "609dde50-2fb7-431d-bbc3-a755f6c0b323",
   "metadata": {},
   "source": [
    "## ドラム音源だけ取り出すことを試す\n",
    "https://github.com/deezer/spleeter\n",
    "\n",
    "API references\n",
    "https://github.com/deezer/spleeter/wiki/4.-API-Reference#separator"
   ]
  },
  {
   "cell_type": "code",
   "execution_count": 1,
   "id": "cfa3279a-9569-426f-8440-c12a4f919af0",
   "metadata": {},
   "outputs": [],
   "source": [
    "import pandas as pd"
   ]
  },
  {
   "cell_type": "code",
   "execution_count": 2,
   "id": "90c12032-8506-43bb-a6c4-b957973e7a49",
   "metadata": {},
   "outputs": [],
   "source": [
    "import numpy as np"
   ]
  },
  {
   "cell_type": "code",
   "execution_count": null,
   "id": "4c749bbd-0cc7-4102-b961-5138e6a17928",
   "metadata": {},
   "outputs": [],
   "source": [
    "from spleeter.separator import Separator"
   ]
  },
  {
   "cell_type": "code",
   "execution_count": 1,
   "id": "76ae3795-d91d-4683-985d-dc40dd6eb7e5",
   "metadata": {},
   "outputs": [
    {
     "ename": "SyntaxError",
     "evalue": "invalid syntax (3281982609.py, line 1)",
     "output_type": "error",
     "traceback": [
      "\u001b[0;36m  File \u001b[0;32m\"/tmp/ipykernel_1320/3281982609.py\"\u001b[0;36m, line \u001b[0;32m1\u001b[0m\n\u001b[0;31m    from tensorflow\u001b[0m\n\u001b[0m                   ^\u001b[0m\n\u001b[0;31mSyntaxError\u001b[0m\u001b[0;31m:\u001b[0m invalid syntax\n"
     ]
    }
   ],
   "source": [
    "from tensorflow import "
   ]
  },
  {
   "cell_type": "code",
   "execution_count": null,
   "id": "454ce5f1-441d-4e64-a28d-457bf9a6c1cc",
   "metadata": {},
   "outputs": [],
   "source": []
  }
 ],
 "metadata": {
  "kernelspec": {
   "display_name": "Python 3 (ipykernel)",
   "language": "python",
   "name": "python3"
  },
  "language_info": {
   "codemirror_mode": {
    "name": "ipython",
    "version": 3
   },
   "file_extension": ".py",
   "mimetype": "text/x-python",
   "name": "python",
   "nbconvert_exporter": "python",
   "pygments_lexer": "ipython3",
   "version": "3.9.6"
  }
 },
 "nbformat": 4,
 "nbformat_minor": 5
}
